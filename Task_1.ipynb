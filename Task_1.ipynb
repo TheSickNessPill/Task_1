{
  "nbformat": 4,
  "nbformat_minor": 0,
  "metadata": {
    "colab": {
      "name": "Task_1.ipynb",
      "provenance": [],
      "collapsed_sections": []
    },
    "kernelspec": {
      "name": "python3",
      "display_name": "Python 3"
    }
  },
  "cells": [
    {
      "cell_type": "code",
      "metadata": {
        "id": "RXAJRCYeBVfi"
      },
      "source": [
        "from google.colab import files\n",
        "import numpy as np # работа с числами\n",
        "import pandas as pd # удобная  работа с датасетами\n",
        "import scipy as sp #выполнения научных и инженерных расчётов\n",
        "from scipy.optimize import fsolve\n",
        "import matplotlib.pyplot as plt # Графики"
      ],
      "execution_count": 1,
      "outputs": []
    },
    {
      "cell_type": "markdown",
      "metadata": {
        "id": "HQUFCA__Gxki"
      },
      "source": [
        "BuildingMachineLearningSystemsWithPython/ch01/data/web_traffic.tsv"
      ]
    },
    {
      "cell_type": "code",
      "metadata": {
        "id": "YLgMbYXDLYIu"
      },
      "source": [
        "#files.upload()"
      ],
      "execution_count": 2,
      "outputs": []
    },
    {
      "cell_type": "code",
      "metadata": {
        "id": "418E7jpjPSea"
      },
      "source": [
        "!dir ~"
      ],
      "execution_count": 3,
      "outputs": []
    },
    {
      "cell_type": "code",
      "metadata": {
        "colab": {
          "base_uri": "https://localhost:8080/"
        },
        "id": "wLjxqzayMWJC",
        "outputId": "7771dbd6-4484-405d-f278-3142cde99a99"
      },
      "source": [
        "!ls -al"
      ],
      "execution_count": 4,
      "outputs": [
        {
          "output_type": "stream",
          "text": [
            "total 24\n",
            "drwxr-xr-x 1 root root 4096 Mar 19 19:31 .\n",
            "drwxr-xr-x 1 root root 4096 Mar 19 19:27 ..\n",
            "drwxr-xr-x 4 root root 4096 Mar 18 13:36 .config\n",
            "drwxr-xr-x 1 root root 4096 Mar 18 13:36 sample_data\n",
            "-rw-r--r-- 1 root root 6538 Mar 19 19:31 web_traffic.csv\n"
          ],
          "name": "stdout"
        }
      ]
    },
    {
      "cell_type": "markdown",
      "metadata": {
        "id": "kQTk8cu-Piow"
      },
      "source": [
        "## Загрузим данные"
      ]
    },
    {
      "cell_type": "code",
      "metadata": {
        "id": "sbgFezp8MrQX"
      },
      "source": [
        "df = pd.read_csv(\"web_traffic.csv\",sep = \"\\t\", header=None)\n",
        "df.columns = ['t','c']"
      ],
      "execution_count": 5,
      "outputs": []
    },
    {
      "cell_type": "code",
      "metadata": {
        "id": "gUb8QdixN5Wv"
      },
      "source": [
        "#df = df.set_index(['t'])"
      ],
      "execution_count": 6,
      "outputs": []
    },
    {
      "cell_type": "markdown",
      "metadata": {
        "id": "IvT0SpjfP1ed"
      },
      "source": [
        "## Обзор данных"
      ]
    },
    {
      "cell_type": "code",
      "metadata": {
        "colab": {
          "base_uri": "https://localhost:8080/"
        },
        "id": "K3IwGGrSovDV",
        "outputId": "b7a20f2a-d855-448e-baa3-4f45a6a21d0c"
      },
      "source": [
        "df.info()"
      ],
      "execution_count": 7,
      "outputs": [
        {
          "output_type": "stream",
          "text": [
            "<class 'pandas.core.frame.DataFrame'>\n",
            "RangeIndex: 743 entries, 0 to 742\n",
            "Data columns (total 2 columns):\n",
            " #   Column  Non-Null Count  Dtype  \n",
            "---  ------  --------------  -----  \n",
            " 0   t       743 non-null    int64  \n",
            " 1   c       735 non-null    float64\n",
            "dtypes: float64(1), int64(1)\n",
            "memory usage: 11.7 KB\n"
          ],
          "name": "stdout"
        }
      ]
    },
    {
      "cell_type": "code",
      "metadata": {
        "colab": {
          "base_uri": "https://localhost:8080/",
          "height": 359
        },
        "id": "k1MnkfN_PW35",
        "outputId": "d6e0376a-2b34-4826-f4d6-2930a3119e7c"
      },
      "source": [
        "df.head(10)"
      ],
      "execution_count": 8,
      "outputs": [
        {
          "output_type": "execute_result",
          "data": {
            "text/html": [
              "<div>\n",
              "<style scoped>\n",
              "    .dataframe tbody tr th:only-of-type {\n",
              "        vertical-align: middle;\n",
              "    }\n",
              "\n",
              "    .dataframe tbody tr th {\n",
              "        vertical-align: top;\n",
              "    }\n",
              "\n",
              "    .dataframe thead th {\n",
              "        text-align: right;\n",
              "    }\n",
              "</style>\n",
              "<table border=\"1\" class=\"dataframe\">\n",
              "  <thead>\n",
              "    <tr style=\"text-align: right;\">\n",
              "      <th></th>\n",
              "      <th>t</th>\n",
              "      <th>c</th>\n",
              "    </tr>\n",
              "  </thead>\n",
              "  <tbody>\n",
              "    <tr>\n",
              "      <th>0</th>\n",
              "      <td>1</td>\n",
              "      <td>2272.0</td>\n",
              "    </tr>\n",
              "    <tr>\n",
              "      <th>1</th>\n",
              "      <td>2</td>\n",
              "      <td>NaN</td>\n",
              "    </tr>\n",
              "    <tr>\n",
              "      <th>2</th>\n",
              "      <td>3</td>\n",
              "      <td>1386.0</td>\n",
              "    </tr>\n",
              "    <tr>\n",
              "      <th>3</th>\n",
              "      <td>4</td>\n",
              "      <td>1365.0</td>\n",
              "    </tr>\n",
              "    <tr>\n",
              "      <th>4</th>\n",
              "      <td>5</td>\n",
              "      <td>1488.0</td>\n",
              "    </tr>\n",
              "    <tr>\n",
              "      <th>5</th>\n",
              "      <td>6</td>\n",
              "      <td>1337.0</td>\n",
              "    </tr>\n",
              "    <tr>\n",
              "      <th>6</th>\n",
              "      <td>7</td>\n",
              "      <td>1883.0</td>\n",
              "    </tr>\n",
              "    <tr>\n",
              "      <th>7</th>\n",
              "      <td>8</td>\n",
              "      <td>2283.0</td>\n",
              "    </tr>\n",
              "    <tr>\n",
              "      <th>8</th>\n",
              "      <td>9</td>\n",
              "      <td>1335.0</td>\n",
              "    </tr>\n",
              "    <tr>\n",
              "      <th>9</th>\n",
              "      <td>10</td>\n",
              "      <td>1025.0</td>\n",
              "    </tr>\n",
              "  </tbody>\n",
              "</table>\n",
              "</div>"
            ],
            "text/plain": [
              "    t       c\n",
              "0   1  2272.0\n",
              "1   2     NaN\n",
              "2   3  1386.0\n",
              "3   4  1365.0\n",
              "4   5  1488.0\n",
              "5   6  1337.0\n",
              "6   7  1883.0\n",
              "7   8  2283.0\n",
              "8   9  1335.0\n",
              "9  10  1025.0"
            ]
          },
          "metadata": {
            "tags": []
          },
          "execution_count": 8
        }
      ]
    },
    {
      "cell_type": "code",
      "metadata": {
        "colab": {
          "base_uri": "https://localhost:8080/"
        },
        "id": "H0M7kFSZP8ON",
        "outputId": "6cb27e7f-a97c-4b1f-ac51-9344e3011f62"
      },
      "source": [
        "df.shape"
      ],
      "execution_count": 9,
      "outputs": [
        {
          "output_type": "execute_result",
          "data": {
            "text/plain": [
              "(743, 2)"
            ]
          },
          "metadata": {
            "tags": []
          },
          "execution_count": 9
        }
      ]
    },
    {
      "cell_type": "markdown",
      "metadata": {
        "id": "VU87hIgVQFSQ"
      },
      "source": [
        "Датасет состоит из 743 строк и можно увидеть, что присутсвуют пустые(NAN) значения"
      ]
    },
    {
      "cell_type": "code",
      "metadata": {
        "colab": {
          "base_uri": "https://localhost:8080/"
        },
        "id": "GdteWkiSQRhw",
        "outputId": "b2ca2c4b-1d55-4a8b-b6e5-f9d4e8319e3c"
      },
      "source": [
        "print (f\"В датасете {df['c'].isna().sum()} пустых значений\")"
      ],
      "execution_count": 10,
      "outputs": [
        {
          "output_type": "stream",
          "text": [
            "В датасете 8 пустых значений\n"
          ],
          "name": "stdout"
        }
      ]
    },
    {
      "cell_type": "markdown",
      "metadata": {
        "id": "ugcz3Hz3VgGY"
      },
      "source": [
        "Заменим эти пустые значения на предыдущие\n",
        "\n",
        "\n",
        "\n"
      ]
    },
    {
      "cell_type": "code",
      "metadata": {
        "colab": {
          "base_uri": "https://localhost:8080/"
        },
        "id": "3X46UwA0SSon",
        "outputId": "c57e6ff4-9e69-4968-866a-3fb0e6fa4a67"
      },
      "source": [
        "for i in range(df.shape[0]):\n",
        "  if np.isnan(df['c'].iloc[i]):\n",
        "    df['c'].iloc[i] = df['c'].iloc[i-1]"
      ],
      "execution_count": 11,
      "outputs": [
        {
          "output_type": "stream",
          "text": [
            "/usr/local/lib/python3.7/dist-packages/pandas/core/indexing.py:670: SettingWithCopyWarning: \n",
            "A value is trying to be set on a copy of a slice from a DataFrame\n",
            "\n",
            "See the caveats in the documentation: https://pandas.pydata.org/pandas-docs/stable/user_guide/indexing.html#returning-a-view-versus-a-copy\n",
            "  iloc._setitem_with_indexer(indexer, value)\n"
          ],
          "name": "stderr"
        }
      ]
    },
    {
      "cell_type": "markdown",
      "metadata": {
        "id": "nm0n41bt_n2t"
      },
      "source": [
        "Приведём столбец с кол-вом к целочисленным значениям"
      ]
    },
    {
      "cell_type": "code",
      "metadata": {
        "id": "ESY25eZyZfdu"
      },
      "source": [
        "df['c'] = df['c'].astype('int32')"
      ],
      "execution_count": 12,
      "outputs": []
    },
    {
      "cell_type": "markdown",
      "metadata": {
        "id": "Ao0qTwSZvwed"
      },
      "source": [
        "## Составим график этих данных и поппытаемся подобрать нужную функцию для них"
      ]
    },
    {
      "cell_type": "markdown",
      "metadata": {
        "id": "2ugjnHWeASKL"
      },
      "source": [
        "Составим некоторое представление о данных, с помощью диаграммы рассеяния"
      ]
    },
    {
      "cell_type": "code",
      "metadata": {
        "colab": {
          "base_uri": "https://localhost:8080/",
          "height": 295
        },
        "id": "DdzqqSwKUrnG",
        "outputId": "865d4138-83c3-4c7b-a531-0e2f2b0ba90d"
      },
      "source": [
        "plt.scatter(df['t'],df['c'],s=10)\n",
        "plt.title(\"Web traffic over the last month\")\n",
        "plt.xlabel(\"Time\")\n",
        "plt.ylabel(\"Hits/hour\")\n",
        "plt.xticks([w*7*24 for w in range (10)],['week %i' % w for w in range(10)])\n",
        "plt.autoscale(tight=False)\n",
        "plt.grid(True,linestyle='-',color='0.75')\n",
        "plt.show()"
      ],
      "execution_count": 13,
      "outputs": [
        {
          "output_type": "display_data",
          "data": {
            "image/png": "[encoded data removed]",
            "text/plain": [
              "<Figure size 432x288 with 1 Axes>"
            ]
          },
          "metadata": {
            "tags": [],
            "needs_background": "light"
          }
        }
      ]
    },
    {
      "cell_type": "markdown",
      "metadata": {
        "id": "DRQxefkEAv17"
      },
      "source": [
        "Реализуем функцию вычисления погрешности"
      ]
    },
    {
      "cell_type": "code",
      "metadata": {
        "id": "v8LTWptugpZ5"
      },
      "source": [
        "def error(f,x,y):\n",
        "  return np.round(np.sum((f(x)-y)**2),3)"
      ],
      "execution_count": 14,
      "outputs": []
    },
    {
      "cell_type": "markdown",
      "metadata": {
        "id": "Zga-BDCgA4uW"
      },
      "source": [
        "Составим линию со степенью полинома 1, тобеж прямая линия. Также составим несколько линий с большим кол-вом степенией полиномов. Выведем параметры модели №1 как пример."
      ]
    },
    {
      "cell_type": "code",
      "metadata": {
        "id": "_Pvqzwadcu4r",
        "colab": {
          "base_uri": "https://localhost:8080/"
        },
        "outputId": "66916f20-dd4f-4a1d-8c33-7ffbf92b7d13"
      },
      "source": [
        "## np.polyfit находит такую прямую, погрешность апроксимизации минимальна\n",
        "##  full = True нужен для того, чтобы получить более подробные детали апроксимизации модели\n",
        "##  fp = парамеры модели\n",
        "##  residuals - остатки модели\n",
        "##  rank  = ранг матрицы\n",
        "##  sv = Особые значения\n",
        "## np.poly1d построение модельной функции по параметрам модели\n",
        "\n",
        "fp1 , residuals1 , rank1 , sv1 , rcond1 = np.polyfit(df['t'],df['c'],1,full=True)\n",
        "print(\"Параметры модели №1: %s\" % fp1)\n",
        "print(residuals1)\n",
        "f1 = np.poly1d(fp1)\n",
        "\n",
        "fp2 , residuals2 , rank2 , sv2 , rcond2 = np.polyfit(df['t'],df['c'],2,full=True)\n",
        "f2 = np.poly1d(fp2)\n",
        "\n",
        "fp3 , residuals3 , rank3 , sv3 , rcond3 = np.polyfit(df['t'],df['c'],3,full=True)\n",
        "f3 = np.poly1d(fp3)\n",
        "\n",
        "fp10 , residuals10 , rank10 , sv10 , rcond10 = np.polyfit(df['t'],df['c'],10,full=True)\n",
        "f10 = np.poly1d(fp10)\n",
        "\n",
        "fp50 , residuals50 , rank50 , sv50 , rcond50 = np.polyfit(df['t'],df['c'],50,full=True)\n",
        "f50 = np.poly1d(fp50)"
      ],
      "execution_count": 15,
      "outputs": [
        {
          "output_type": "stream",
          "text": [
            "Параметры модели №1: [  2.57556555 999.31087998]\n",
            "[3.19976936e+08]\n"
          ],
          "name": "stdout"
        }
      ]
    },
    {
      "cell_type": "code",
      "metadata": {
        "colab": {
          "base_uri": "https://localhost:8080/"
        },
        "id": "2xttYeSlfuHA",
        "outputId": "30602cff-731c-439a-980d-99c4d2a39172"
      },
      "source": [
        "#print(f\"d=1, error: {error(f1,df['t'],df['c'])}\")\n",
        "print(f\"d=2, error: {error(f2,df['t'],df['c'])}\")\n",
        "print(f\"d=3, error: {error(f3,df['t'],df['c'])}\")\n",
        "print(f\"d=10, error: {error(f10,df['t'],df['c'])}\")\n",
        "print(f\"d=50, error {error(f50,df['t'],df['c'])}\")"
      ],
      "execution_count": 16,
      "outputs": [
        {
          "output_type": "stream",
          "text": [
            "d=2, error: 181212308.792\n",
            "d=3, error: 141234567.575\n",
            "d=10, error: 123636173.3\n",
            "d=50, error 111071287.03\n"
          ],
          "name": "stdout"
        }
      ]
    },
    {
      "cell_type": "code",
      "metadata": {
        "colab": {
          "base_uri": "https://localhost:8080/",
          "height": 295
        },
        "id": "OHEpKnYdh1h9",
        "outputId": "2d3d8d27-5602-4777-cde7-05859c143f16"
      },
      "source": [
        "fx = np.linspace(0,df['t'].iloc[-1],1000) #сгенерировать значения Х для рафика\n",
        "\n",
        "plt.scatter(df['t'],df['c'],s=1)\n",
        "plt.title(\"Web traffic over the last month\")\n",
        "plt.xlabel(\"Time\")\n",
        "plt.ylabel(\"Hits/hour\") \n",
        "plt.xticks([w*7*24 for w in range (10)],['week %i' % w for w in range(10)])\n",
        "plt.autoscale(tight=False)\n",
        "plt.grid(True,linestyle='-',color='0.9')\n",
        "plt.plot(fx, f1(fx), linewidth=2)\n",
        "plt.plot(fx, f2(fx), linewidth=2)\n",
        "plt.plot(fx, f3(fx), linewidth=2)\n",
        "plt.plot(fx, f10(fx), linewidth=2)\n",
        "plt.plot(fx, f50(fx), linewidth=2)\n",
        "plt.legend([\"d=%i\"% f1.order, \n",
        "            \"d=%i\"% f2.order,\n",
        "            \"d=%i\"% f3.order,\n",
        "            \"d=%i\"% f10.order,\n",
        "            \"d=%i\"% f50.order,] , loc= \"upper left\")\n",
        "\n",
        "plt.show()"
      ],
      "execution_count": 17,
      "outputs": [
        {
          "output_type": "display_data",
          "data": {
            "image/png": "[encoded data removed]",
            "text/plain": [
              "<Figure size 432x288 with 1 Axes>"
            ]
          },
          "metadata": {
            "tags": [],
            "needs_background": "light"
          }
        }
      ]
    },
    {
      "cell_type": "markdown",
      "metadata": {
        "id": "GINiju9um-Ca"
      },
      "source": [
        "## Разделим линию полинома степени 1 на 2 части до изгиба на промежутке 3 и 4 недели."
      ]
    },
    {
      "cell_type": "code",
      "metadata": {
        "colab": {
          "base_uri": "https://localhost:8080/"
        },
        "id": "xnwpwsk3nah4",
        "outputId": "8a745cee-dbff-4b76-c81f-ed3132a3f9c0"
      },
      "source": [
        "inflection = int(3.5*7*24)\n",
        "x = np.array(df['t'].values)\n",
        "y = np.array(df['c'].values)\n",
        "\n",
        "xa = x[:inflection]\n",
        "ya = y[:inflection]\n",
        "xb = x[inflection:]\n",
        "yb = y[inflection:]\n",
        "\n",
        "fa = np.poly1d(np.polyfit(xa,ya,1))\n",
        "fb = np.poly1d(np.polyfit(xb,yb,1))\n",
        "\n",
        "fa_error = error(fa,xa,ya)\n",
        "fb_error = error(fb, xb, yb)\n",
        "print(\"Error inflection=%f\" % (fa_error + fb_error))"
      ],
      "execution_count": 18,
      "outputs": [
        {
          "output_type": "stream",
          "text": [
            "Error inflection=136578745.870000\n"
          ],
          "name": "stdout"
        }
      ]
    },
    {
      "cell_type": "markdown",
      "metadata": {
        "id": "x8Yl5izhnTUX"
      },
      "source": [
        "Можно увидеть, что комбинация двух прямых даёт меньшую ошибку, чем это была бы 1 прямая, но стоит отметить.что погрешность больше, чем у полиномов более высокой степени"
      ]
    },
    {
      "cell_type": "markdown",
      "metadata": {
        "id": "XXHgRBDviDVs"
      },
      "source": [
        "Нарисуем график этих прямых"
      ]
    },
    {
      "cell_type": "code",
      "metadata": {
        "colab": {
          "base_uri": "https://localhost:8080/",
          "height": 295
        },
        "id": "0weaJaj7iCg8",
        "outputId": "182c8f84-1f67-45ce-e9b0-a4eb2ab606ad"
      },
      "source": [
        "plt.scatter(df['t'],df['c'],s=10, color='gray')\n",
        "plt.title(\"Web traffic over the last month\")\n",
        "plt.xlabel(\"Time\")\n",
        "plt.ylabel(\"Hits/hour\")\n",
        "plt.xticks([w*7*24 for w in range (10)],['week %i' % w for w in range(10)])\n",
        "plt.autoscale(tight=False)\n",
        "plt.grid(True,linestyle='-',color='0.75')\n",
        "plt.plot(xa, fa(xa), linewidth=2,color='black')\n",
        "plt.plot(xb, fb(xb), linewidth=2,color='red')\n",
        "plt.show()"
      ],
      "execution_count": 19,
      "outputs": [
        {
          "output_type": "display_data",
          "data": {
            "image/png": "[encoded data removed]",
            "text/plain": [
              "<Figure size 432x288 with 1 Axes>"
            ]
          },
          "metadata": {
            "tags": [],
            "needs_background": "light"
          }
        }
      ]
    },
    {
      "cell_type": "markdown",
      "metadata": {
        "id": "Jult9hecGK3I"
      },
      "source": [
        "Очевидно, что вторая линия, описывающая более свежие сроки, будет более актуальна, чем старые.\n",
        "Исходя из графиков пусть 2й полином будет самым лучшим, так как в среднем он описывает данные объективнее."
      ]
    },
    {
      "cell_type": "code",
      "metadata": {
        "colab": {
          "base_uri": "https://localhost:8080/"
        },
        "id": "h7r6w6Y7nB5q",
        "outputId": "4680c7b8-c674-4598-cc91-4fda5915337d"
      },
      "source": [
        "fbt2 = np.poly1d(np.polyfit(xb,yb,2))\n",
        "print(\"fbt2(x)= \\n%s\" % fbt2)"
      ],
      "execution_count": 20,
      "outputs": [
        {
          "output_type": "stream",
          "text": [
            "fbt2(x)= \n",
            "        2\n",
            "0.1002 x - 113.8 x + 3.428e+04\n"
          ],
          "name": "stdout"
        }
      ]
    },
    {
      "cell_type": "code",
      "metadata": {
        "id": "nXBY3DsCnB8A",
        "colab": {
          "base_uri": "https://localhost:8080/"
        },
        "outputId": "c04134a2-3410-4c38-d762-c0ce093ad580"
      },
      "source": [
        "print(\"fbt2(x)-100000= \\n%s\" % (fbt2-100000))"
      ],
      "execution_count": 21,
      "outputs": [
        {
          "output_type": "stream",
          "text": [
            "fbt2(x)-100000= \n",
            "        2\n",
            "0.1002 x - 113.8 x - 6.572e+04\n"
          ],
          "name": "stdout"
        }
      ]
    },
    {
      "cell_type": "code",
      "metadata": {
        "colab": {
          "base_uri": "https://localhost:8080/"
        },
        "id": "t-_4_KIbtt4O",
        "outputId": "b276663c-d577-45ab-be3b-2cbd9d1f7e38"
      },
      "source": [
        "## fsolve = находит корни функции благодаря начальному значению\n",
        "\n",
        "reached_max = fsolve(fbt2 - 100000, x0=800)/(7*24)\n",
        "print(\"100,000 hits/hour expected as week %f\" % reached_max[0])"
      ],
      "execution_count": 22,
      "outputs": [
        {
          "output_type": "stream",
          "text": [
            "100,000 hits/hour expected as week 9.266327\n"
          ],
          "name": "stdout"
        }
      ]
    },
    {
      "cell_type": "markdown",
      "metadata": {
        "id": "yOJcqSEPESSc"
      },
      "source": [
        "Таким образом , мы ожидаем выхода на ровень 100_000 за просов/час в неделю 9.266, то есть наша модель предсказывает , что если нынешнее поведение пользователей сохранится и компания не утратит привлекательности, то до насыщния текущей пропускной  пособности остаётся ещё месяц.\n"
      ]
    }
  ]
}