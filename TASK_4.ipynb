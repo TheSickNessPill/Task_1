{
 "cells": [
  {
   "cell_type": "markdown",
   "id": "architectural-setup",
   "metadata": {},
   "source": [
    "# Подгружаем библиотеки"
   ]
  },
  {
   "cell_type": "code",
   "execution_count": 1,
   "id": "southeast-monroe",
   "metadata": {},
   "outputs": [],
   "source": [
    "from sklearn.feature_extraction.text import CountVectorizer\n",
    "import scipy as sp\n",
    "import os\n",
    "import sys\n",
    "from sklearn.cluster import KMeans"
   ]
  },
  {
   "cell_type": "markdown",
   "id": "stock-merchandise",
   "metadata": {},
   "source": [
    "Создаём список данных"
   ]
  },
  {
   "cell_type": "code",
   "execution_count": 2,
   "id": "tight-knock",
   "metadata": {},
   "outputs": [],
   "source": [
    "text = [\n",
    "    \"This is a toy post about machine learning. Actually, it contains not much interesting stuff.\",\n",
    "    \"Imaging databases provide storage capabilities.\",\n",
    "    \"Most imaging databases save images permanently.\",\n",
    "    \"Imaging databases store data.\",\n",
    "    \"Imaging databases store data. Imaging databases store data. Imaging databases store data.\"\n",
    "       ]"
   ]
  },
  {
   "cell_type": "code",
   "execution_count": 3,
   "id": "economic-effects",
   "metadata": {},
   "outputs": [
    {
     "name": "stdout",
     "output_type": "stream",
     "text": [
      "word\n"
     ]
    }
   ],
   "source": [
    "vectorizer = CountVectorizer() # Создаём объект класса\n",
    "print(vectorizer.analyzer) # Проверяем анализатор"
   ]
  },
  {
   "cell_type": "code",
   "execution_count": 4,
   "id": "personalized-mount",
   "metadata": {},
   "outputs": [],
   "source": [
    "X = vectorizer.fit_transform(text) # Проганяем входные данные через алгоритм обработки"
   ]
  },
  {
   "cell_type": "code",
   "execution_count": 5,
   "id": "impressive-apollo",
   "metadata": {},
   "outputs": [
    {
     "name": "stdout",
     "output_type": "stream",
     "text": [
      "['about', 'actually', 'capabilities', 'contains', 'data', 'databases', 'images', 'imaging', 'interesting', 'is', 'it', 'learning', 'machine', 'most', 'much', 'not', 'permanently', 'post', 'provide', 'save', 'storage', 'store', 'stuff', 'this', 'toy']\n"
     ]
    }
   ],
   "source": [
    "print(vectorizer.get_feature_names()) # Получаем массив уникальных слов"
   ]
  },
  {
   "cell_type": "code",
   "execution_count": 6,
   "id": "indoor-warner",
   "metadata": {},
   "outputs": [
    {
     "name": "stdout",
     "output_type": "stream",
     "text": [
      "(5, 25)\n"
     ]
    }
   ],
   "source": [
    "num_samples, num_features = X.shape\n",
    "print(X.shape) # Размер массива выходного"
   ]
  },
  {
   "cell_type": "code",
   "execution_count": 7,
   "id": "thick-editor",
   "metadata": {},
   "outputs": [
    {
     "name": "stdout",
     "output_type": "stream",
     "text": [
      "[[1 0 0 0 0]\n",
      " [1 0 0 0 0]\n",
      " [0 1 0 0 0]\n",
      " [1 0 0 0 0]\n",
      " [0 0 0 1 3]\n",
      " [0 1 1 1 3]\n",
      " [0 0 1 0 0]\n",
      " [0 1 1 1 3]\n",
      " [1 0 0 0 0]\n",
      " [1 0 0 0 0]\n",
      " [1 0 0 0 0]\n",
      " [1 0 0 0 0]\n",
      " [1 0 0 0 0]\n",
      " [0 0 1 0 0]\n",
      " [1 0 0 0 0]\n",
      " [1 0 0 0 0]\n",
      " [0 0 1 0 0]\n",
      " [1 0 0 0 0]\n",
      " [0 1 0 0 0]\n",
      " [0 0 1 0 0]\n",
      " [0 1 0 0 0]\n",
      " [0 0 0 1 3]\n",
      " [1 0 0 0 0]\n",
      " [1 0 0 0 0]\n",
      " [1 0 0 0 0]] <class 'numpy.ndarray'>\n"
     ]
    }
   ],
   "source": [
    "print(X.toarray().transpose(), type(X.toarray().transpose()))"
   ]
  },
  {
   "cell_type": "code",
   "execution_count": 8,
   "id": "registered-appointment",
   "metadata": {},
   "outputs": [
    {
     "name": "stdout",
     "output_type": "stream",
     "text": [
      "  (0, 5)\t1\n",
      "  (0, 7)\t1 <class 'scipy.sparse.csr.csr_matrix'>\n"
     ]
    }
   ],
   "source": [
    "new_post =  \"imaging databases\"\n",
    "new_post_vec = vectorizer.transform([new_post]) # создаём вектор нахождения этих слов в пространстве\n",
    "print(new_post_vec, type(new_post_vec)) "
   ]
  },
  {
   "cell_type": "code",
   "execution_count": 9,
   "id": "eleven-seeking",
   "metadata": {},
   "outputs": [
    {
     "name": "stdout",
     "output_type": "stream",
     "text": [
      "[[0 0 0 0 0 1 0 1 0 0 0 0 0 0 0 0 0 0 0 0 0 0 0 0 0]]\n"
     ]
    }
   ],
   "source": [
    "print(new_post_vec.toarray()) # Отображение этого вектора"
   ]
  },
  {
   "cell_type": "code",
   "execution_count": 10,
   "id": "naked-brunei",
   "metadata": {},
   "outputs": [],
   "source": [
    "def dist_raw(v1, v2):\n",
    "    \n",
    "    \"\"\"ф-Я Вычисления Евклидового расстояния\"\"\"\n",
    "    \n",
    "    delta = v1 - v2\n",
    "    return sp.linalg.norm(delta.toarray())"
   ]
  },
  {
   "cell_type": "code",
   "execution_count": 11,
   "id": "genetic-cooper",
   "metadata": {},
   "outputs": [],
   "source": [
    "def dist_norm(v1, v2):\n",
    "    \n",
    "    \"\"\"ф-Я Вычисления Евклидового расстояния с нормирование вектора\"\"\"\n",
    "    \n",
    "    v1_normalized = v1 / sp.linalg.norm(v1.toarray())\n",
    "    v2_normalized = v2 / sp.linalg.norm(v2.toarray())\n",
    "\n",
    "    delta = v1_normalized - v2_normalized\n",
    "\n",
    "    return sp.linalg.norm(delta.toarray())"
   ]
  },
  {
   "cell_type": "code",
   "execution_count": 12,
   "id": "voluntary-psychology",
   "metadata": {},
   "outputs": [],
   "source": [
    "dist = dist_norm"
   ]
  },
  {
   "cell_type": "code",
   "execution_count": 13,
   "id": "specified-surname",
   "metadata": {},
   "outputs": [
    {
     "name": "stdout",
     "output_type": "stream",
     "text": [
      "=== Post 0 with dist=1.41: This is a toy post about machine learning. Actually, it contains not much interesting stuff.\n",
      "=== Post 1 with dist=0.86: Imaging databases provide storage capabilities.\n",
      "=== Post 2 with dist=0.92: Most imaging databases save images permanently.\n",
      "=== Post 3 with dist=0.77: Imaging databases store data.\n",
      "=== Post 4 with dist=0.77: Imaging databases store data. Imaging databases store data. Imaging databases store data.\n",
      "Best post is 3 with dist=0.77\n"
     ]
    }
   ],
   "source": [
    "# Вычисления расстояние между одним вектором и другим\n",
    "\n",
    "best_dist = sys.maxsize\n",
    "best_i = None\n",
    "\n",
    "for i in range(0, num_samples):\n",
    "    post = text[i]\n",
    "    if post == new_post:\n",
    "        continue\n",
    "    post_vec = X.getrow(i)\n",
    "    d = dist(post_vec, new_post_vec)\n",
    "\n",
    "    print(\"=== Post %i with dist=%.2f: %s\" % (i, d, post))\n",
    "\n",
    "    if d < best_dist:\n",
    "        best_dist = d\n",
    "        best_i = i\n",
    "\n",
    "print(\"Best post is %i with dist=%.2f\" % (best_i, best_dist))"
   ]
  },
  {
   "cell_type": "markdown",
   "id": "affiliated-consequence",
   "metadata": {},
   "source": [
    "# строим модель"
   ]
  },
  {
   "cell_type": "code",
   "execution_count": 14,
   "id": "adjustable-intention",
   "metadata": {},
   "outputs": [
    {
     "name": "stdout",
     "output_type": "stream",
     "text": [
      "Initialization complete\n",
      "Iteration 0, inertia 0.0\n",
      "Converged at iteration 0: center shift 0.0 within tolerance 3.2000000000000005e-05.\n",
      "[[0. 0. 1. 0. 0. 1. 0. 1. 0. 0. 0. 0. 0. 0. 0. 0. 0. 0. 1. 0. 1. 0. 0. 0.\n",
      "  0.]\n",
      " [0. 0. 0. 0. 3. 3. 0. 3. 0. 0. 0. 0. 0. 0. 0. 0. 0. 0. 0. 0. 0. 3. 0. 0.\n",
      "  0.]\n",
      " [0. 0. 0. 0. 0. 1. 1. 1. 0. 0. 0. 0. 0. 1. 0. 0. 1. 0. 0. 1. 0. 0. 0. 0.\n",
      "  0.]\n",
      " [1. 1. 0. 1. 0. 0. 0. 0. 1. 1. 1. 1. 1. 0. 1. 1. 0. 1. 0. 0. 0. 0. 1. 1.\n",
      "  1.]\n",
      " [0. 0. 0. 0. 1. 1. 0. 1. 0. 0. 0. 0. 0. 0. 0. 0. 0. 0. 0. 0. 0. 1. 0. 0.\n",
      "  0.]]\n",
      "[3 0 2 4 1]\n"
     ]
    }
   ],
   "source": [
    "km = KMeans(n_clusters=5, init='random',n_init=1, verbose=1, random_state=42) # Сторим модель К-средних\n",
    "km.fit(X) # Обучаем модель\n",
    "print(km.cluster_centers_) # Выводим результаты\n",
    "print(km.labels_)"
   ]
  },
  {
   "cell_type": "code",
   "execution_count": null,
   "id": "affecting-squad",
   "metadata": {},
   "outputs": [],
   "source": []
  }
 ],
 "metadata": {
  "kernelspec": {
   "display_name": "Python 3",
   "language": "python",
   "name": "python3"
  },
  "language_info": {
   "codemirror_mode": {
    "name": "ipython",
    "version": 3
   },
   "file_extension": ".py",
   "mimetype": "text/x-python",
   "name": "python",
   "nbconvert_exporter": "python",
   "pygments_lexer": "ipython3",
   "version": "3.7.10"
  }
 },
 "nbformat": 4,
 "nbformat_minor": 5
}
