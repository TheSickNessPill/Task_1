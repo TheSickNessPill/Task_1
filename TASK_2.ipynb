{
 "cells": [
  {
   "cell_type": "markdown",
   "id": "falling-assault",
   "metadata": {},
   "source": [
    "# Подгрузка библиотек"
   ]
  },
  {
   "cell_type": "code",
   "execution_count": 1,
   "id": "israeli-nightmare",
   "metadata": {},
   "outputs": [],
   "source": [
    "from matplotlib import pyplot as plt # Построение графиков\n",
    "import numpy as np # Работа с массивами чисел\n",
    "import pandas as pd # Работа с раблицами\n",
    "\n",
    "# Загружаем данные функцией load_iris из sklearn\n",
    "from sklearn.datasets import load_iris \n",
    "\n",
    "# load_iris возвращает объект с несколькими полями"
   ]
  },
  {
   "cell_type": "markdown",
   "id": "actual-diesel",
   "metadata": {},
   "source": [
    "# Функции"
   ]
  },
  {
   "cell_type": "code",
   "execution_count": 2,
   "id": "upset-terminal",
   "metadata": {},
   "outputs": [],
   "source": [
    "def fit_model(features, labels):\n",
    "    '''Обучение простой пороговой модели'''\n",
    "    best_acc = -1.0  # задаём начальное значение точности\n",
    "\n",
    "    for fi in range(features.shape[1]):# проходимся по каждому столбцу\n",
    "        thresh = features[:, fi].copy()# В переменную thresh кидаем копию столбца\n",
    "        # проверяем все признаки в следующем порядке:\n",
    "        thresh.sort() # сортировка столбца (По возрастанию)\n",
    "        for t in thresh:# проходимся  по столбцу\n",
    "            pred = (features[:, fi] > t) #создаём булевую маску по условию\n",
    "\n",
    "            # Measure the accuracy of this\n",
    "            acc = (pred == labels).mean() #берём среднее значение от \n",
    "                                          #получившегося массива, в результате \n",
    "                                          #наложения маски\n",
    "                                          # получаем точность\n",
    "\n",
    "            rev_acc = (pred == ~labels).mean() #тоже самое только \n",
    "                                               #от обратного\n",
    "            if rev_acc > acc:\n",
    "                acc = rev_acc\n",
    "                reverse = True\n",
    "            else:\n",
    "                reverse = False\n",
    "            if acc > best_acc:\n",
    "                best_acc = acc\n",
    "                best_fi = fi\n",
    "                best_t = t\n",
    "                best_reverse = reverse\n",
    "\n",
    "    # Модель представляет собой порог, и индекс\n",
    "    return best_t, best_fi, best_reverse\n",
    "\n",
    "\n",
    "def predict(model, features):\n",
    "    '''Применяем изученную модель'''\n",
    "    # Переменная модель представляет собой пару, возвращаемый fit_model\n",
    "    t, fi, reverse = model\n",
    "    if reverse: # Возврат булевой маски исходя из входящих параметров\n",
    "        return features[:, fi] <= t\n",
    "    else:\n",
    "        return features[:, fi] > t\n",
    "\n",
    "\n",
    "def accuracy(features, labels, model):\n",
    "    '''Вычисление точности модели'''\n",
    "    preds = predict(model, features)\n",
    "    return np.mean(preds == labels)"
   ]
  },
  {
   "cell_type": "markdown",
   "id": "pleased-recovery",
   "metadata": {},
   "source": [
    "# Загрузка данных"
   ]
  },
  {
   "cell_type": "code",
   "execution_count": 3,
   "id": "chicken-importance",
   "metadata": {},
   "outputs": [],
   "source": [
    "data = load_iris()\n",
    "features = data.data\n",
    "feature_names = data.feature_names\n",
    "target = data.target\n",
    "target_names = data.target_names"
   ]
  },
  {
   "cell_type": "code",
   "execution_count": 4,
   "id": "underlying-edwards",
   "metadata": {},
   "outputs": [
    {
     "name": "stdout",
     "output_type": "stream",
     "text": [
      "[[5.1 3.5 1.4 0.2]\n",
      " [4.9 3.  1.4 0.2]\n",
      " [4.7 3.2 1.3 0.2]\n",
      " [4.6 3.1 1.5 0.2]\n",
      " [5.  3.6 1.4 0.2]]\n",
      "['sepal length (cm)', 'sepal width (cm)', 'petal length (cm)', 'petal width (cm)']\n",
      "[0 0 0 0 0]\n",
      "['setosa' 'versicolor' 'virginica']\n"
     ]
    }
   ],
   "source": [
    "print(features[:5])\n",
    "print(feature_names) # Чачшелистник / лепесток\n",
    "print(target[:5])\n",
    "print(target_names)"
   ]
  },
  {
   "cell_type": "markdown",
   "id": "recreational-nicaragua",
   "metadata": {},
   "source": [
    "# Строим графики"
   ]
  },
  {
   "cell_type": "code",
   "execution_count": 5,
   "id": "clean-speaking",
   "metadata": {},
   "outputs": [
    {
     "data": {
      "image/png": "[encoded data removed]",
      "text/plain": [
       "<Figure size 432x288 with 1 Axes>"
      ]
     },
     "metadata": {
      "needs_background": "light"
     },
     "output_type": "display_data"
    }
   ],
   "source": [
    "fig, ax = plt.subplots()\n",
    "for t in range(3):\n",
    "    if t == 0: \n",
    "        c = 'r'\n",
    "        marker = '>'\n",
    "    elif t == 1:\n",
    "        c = 'g'\n",
    "        marker = 'o'\n",
    "    elif t ==2:\n",
    "        c = 'b'\n",
    "        marker = 'x'\n",
    "    ax.scatter(features[target == t,0],\n",
    "                features[target == t,1],\n",
    "                marker=marker,\n",
    "                c=c)\n",
    "    ax.set_xlabel(f'{feature_names[0]}')\n",
    "    ax.set_ylabel(f'{feature_names[1]}')\n",
    "\n",
    "plt.show()"
   ]
  },
  {
   "cell_type": "code",
   "execution_count": 6,
   "id": "direct-clinton",
   "metadata": {},
   "outputs": [
    {
     "data": {
      "image/png": "[encoded data removed]",
      "text/plain": [
       "<Figure size 432x288 with 1 Axes>"
      ]
     },
     "metadata": {
      "needs_background": "light"
     },
     "output_type": "display_data"
    }
   ],
   "source": [
    "fig, ax = plt.subplots()\n",
    "for t in range(3):\n",
    "    if t == 0: \n",
    "        c = 'r'\n",
    "        marker = '>'\n",
    "    elif t == 1:\n",
    "        c = 'g'\n",
    "        marker = 'o'\n",
    "    elif t ==2:\n",
    "        c = 'b'\n",
    "        marker = 'x'\n",
    "    ax.scatter(features[target == t,0],\n",
    "                features[target == t,2],\n",
    "                marker=marker,\n",
    "                c=c)\n",
    "    ax.set_xlabel(f'{feature_names[0]}')\n",
    "    ax.set_ylabel(f'{feature_names[2]}')\n",
    "\n",
    "plt.show()"
   ]
  },
  {
   "cell_type": "code",
   "execution_count": 7,
   "id": "diagnostic-supplier",
   "metadata": {},
   "outputs": [
    {
     "data": {
      "image/png": "[encoded data removed]",
      "text/plain": [
       "<Figure size 432x288 with 1 Axes>"
      ]
     },
     "metadata": {
      "needs_background": "light"
     },
     "output_type": "display_data"
    }
   ],
   "source": [
    "fig, ax = plt.subplots()\n",
    "for t in range(3):\n",
    "    if t == 0: \n",
    "        c = 'r'\n",
    "        marker = '>'\n",
    "    elif t == 1:\n",
    "        c = 'g'\n",
    "        marker = 'o'\n",
    "    elif t ==2:\n",
    "        c = 'b'\n",
    "        marker = 'x'\n",
    "    ax.scatter(features[target == t,0],\n",
    "                features[target == t,3],\n",
    "                marker=marker,\n",
    "                c=c)\n",
    "    ax.set_xlabel(f'{feature_names[0]}')\n",
    "    ax.set_ylabel(f'{feature_names[3]}')\n",
    "\n",
    "plt.show()"
   ]
  },
  {
   "cell_type": "code",
   "execution_count": 8,
   "id": "answering-testing",
   "metadata": {},
   "outputs": [
    {
     "data": {
      "image/png": "[encoded data removed]",
      "text/plain": [
       "<Figure size 432x288 with 1 Axes>"
      ]
     },
     "metadata": {
      "needs_background": "light"
     },
     "output_type": "display_data"
    }
   ],
   "source": [
    "fig, ax = plt.subplots()\n",
    "for t in range(3):\n",
    "    if t == 0: \n",
    "        c = 'r'\n",
    "        marker = '>'\n",
    "    elif t == 1:\n",
    "        c = 'g'\n",
    "        marker = 'o'\n",
    "    elif t ==2:\n",
    "        c = 'b'\n",
    "        marker = 'x'\n",
    "    ax.scatter(features[target == t,1],\n",
    "                features[target == t,2],\n",
    "                marker=marker,\n",
    "                c=c)\n",
    "    ax.set_xlabel(f'{feature_names[1]}')\n",
    "    ax.set_ylabel(f'{feature_names[2]}')\n",
    "\n",
    "plt.show()"
   ]
  },
  {
   "cell_type": "code",
   "execution_count": 9,
   "id": "ceramic-crack",
   "metadata": {},
   "outputs": [
    {
     "data": {
      "image/png": "[encoded data removed]",
      "text/plain": [
       "<Figure size 432x288 with 1 Axes>"
      ]
     },
     "metadata": {
      "needs_background": "light"
     },
     "output_type": "display_data"
    }
   ],
   "source": [
    "fig, ax = plt.subplots()\n",
    "for t in range(3):\n",
    "    if t == 0: \n",
    "        c = 'r'\n",
    "        marker = '>'\n",
    "    elif t == 1:\n",
    "        c = 'g'\n",
    "        marker = 'o'\n",
    "    elif t ==2:\n",
    "        c = 'b'\n",
    "        marker = 'x'\n",
    "    ax.scatter(features[target == t,1],\n",
    "                features[target == t,3],\n",
    "                marker=marker,\n",
    "                c=c)\n",
    "    ax.set_xlabel(f'{feature_names[1]}')\n",
    "    ax.set_ylabel(f'{feature_names[3]}')\n",
    "\n",
    "plt.show()"
   ]
  },
  {
   "cell_type": "code",
   "execution_count": 10,
   "id": "numerous-summary",
   "metadata": {},
   "outputs": [
    {
     "data": {
      "image/png": "[encoded data removed]",
      "text/plain": [
       "<Figure size 432x288 with 1 Axes>"
      ]
     },
     "metadata": {
      "needs_background": "light"
     },
     "output_type": "display_data"
    }
   ],
   "source": [
    "fig, ax = plt.subplots()\n",
    "for t in range(3):\n",
    "    if t == 0: \n",
    "        c = 'r'\n",
    "        marker = '>'\n",
    "    elif t == 1:\n",
    "        c = 'g'\n",
    "        marker = 'o'\n",
    "    elif t ==2:\n",
    "        c = 'b'\n",
    "        marker = 'x'\n",
    "    ax.scatter(features[target == t,2],\n",
    "                features[target == t,3],\n",
    "                marker=marker,\n",
    "                c=c)\n",
    "    ax.set_xlabel(f'{feature_names[2]}')\n",
    "    ax.set_ylabel(f'{feature_names[3]}')\n",
    "\n",
    "plt.show()"
   ]
  },
  {
   "cell_type": "markdown",
   "id": "experimental-springer",
   "metadata": {},
   "source": [
    "# Просмотр данных"
   ]
  },
  {
   "cell_type": "code",
   "execution_count": 11,
   "id": "experimental-accident",
   "metadata": {},
   "outputs": [],
   "source": [
    "df = pd.DataFrame(features)\n",
    "df[4] = target"
   ]
  },
  {
   "cell_type": "code",
   "execution_count": 12,
   "id": "perfect-bonus",
   "metadata": {},
   "outputs": [],
   "source": [
    "df.columns = ['sepal length (cm)',\n",
    "              'sepal width (cm)',\n",
    "              'petal length (cm)',\n",
    "              'petal width (cm)',\n",
    "              'y']"
   ]
  },
  {
   "cell_type": "code",
   "execution_count": 13,
   "id": "detailed-regard",
   "metadata": {},
   "outputs": [
    {
     "data": {
      "text/html": [
       "<div>\n",
       "<style scoped>\n",
       "    .dataframe tbody tr th:only-of-type {\n",
       "        vertical-align: middle;\n",
       "    }\n",
       "\n",
       "    .dataframe tbody tr th {\n",
       "        vertical-align: top;\n",
       "    }\n",
       "\n",
       "    .dataframe thead th {\n",
       "        text-align: right;\n",
       "    }\n",
       "</style>\n",
       "<table border=\"1\" class=\"dataframe\">\n",
       "  <thead>\n",
       "    <tr style=\"text-align: right;\">\n",
       "      <th></th>\n",
       "      <th>sepal length (cm)</th>\n",
       "      <th>sepal width (cm)</th>\n",
       "      <th>petal length (cm)</th>\n",
       "      <th>petal width (cm)</th>\n",
       "      <th>y</th>\n",
       "    </tr>\n",
       "  </thead>\n",
       "  <tbody>\n",
       "    <tr>\n",
       "      <th>0</th>\n",
       "      <td>5.1</td>\n",
       "      <td>3.5</td>\n",
       "      <td>1.4</td>\n",
       "      <td>0.2</td>\n",
       "      <td>0</td>\n",
       "    </tr>\n",
       "    <tr>\n",
       "      <th>1</th>\n",
       "      <td>4.9</td>\n",
       "      <td>3.0</td>\n",
       "      <td>1.4</td>\n",
       "      <td>0.2</td>\n",
       "      <td>0</td>\n",
       "    </tr>\n",
       "    <tr>\n",
       "      <th>2</th>\n",
       "      <td>4.7</td>\n",
       "      <td>3.2</td>\n",
       "      <td>1.3</td>\n",
       "      <td>0.2</td>\n",
       "      <td>0</td>\n",
       "    </tr>\n",
       "    <tr>\n",
       "      <th>3</th>\n",
       "      <td>4.6</td>\n",
       "      <td>3.1</td>\n",
       "      <td>1.5</td>\n",
       "      <td>0.2</td>\n",
       "      <td>0</td>\n",
       "    </tr>\n",
       "    <tr>\n",
       "      <th>4</th>\n",
       "      <td>5.0</td>\n",
       "      <td>3.6</td>\n",
       "      <td>1.4</td>\n",
       "      <td>0.2</td>\n",
       "      <td>0</td>\n",
       "    </tr>\n",
       "  </tbody>\n",
       "</table>\n",
       "</div>"
      ],
      "text/plain": [
       "   sepal length (cm)  sepal width (cm)  petal length (cm)  petal width (cm)  y\n",
       "0                5.1               3.5                1.4               0.2  0\n",
       "1                4.9               3.0                1.4               0.2  0\n",
       "2                4.7               3.2                1.3               0.2  0\n",
       "3                4.6               3.1                1.5               0.2  0\n",
       "4                5.0               3.6                1.4               0.2  0"
      ]
     },
     "execution_count": 13,
     "metadata": {},
     "output_type": "execute_result"
    }
   ],
   "source": [
    "df.head()"
   ]
  },
  {
   "cell_type": "code",
   "execution_count": 14,
   "id": "abstract-tongue",
   "metadata": {},
   "outputs": [
    {
     "name": "stdout",
     "output_type": "stream",
     "text": [
      "<class 'pandas.core.frame.DataFrame'>\n",
      "RangeIndex: 150 entries, 0 to 149\n",
      "Data columns (total 5 columns):\n",
      " #   Column             Non-Null Count  Dtype  \n",
      "---  ------             --------------  -----  \n",
      " 0   sepal length (cm)  150 non-null    float64\n",
      " 1   sepal width (cm)   150 non-null    float64\n",
      " 2   petal length (cm)  150 non-null    float64\n",
      " 3   petal width (cm)   150 non-null    float64\n",
      " 4   y                  150 non-null    int32  \n",
      "dtypes: float64(4), int32(1)\n",
      "memory usage: 5.4 KB\n"
     ]
    }
   ],
   "source": [
    "df.info()"
   ]
  },
  {
   "cell_type": "code",
   "execution_count": 15,
   "id": "partial-boston",
   "metadata": {},
   "outputs": [
    {
     "data": {
      "text/plain": [
       "array([0, 1, 2])"
      ]
     },
     "execution_count": 15,
     "metadata": {},
     "output_type": "execute_result"
    }
   ],
   "source": [
    "df['y'].unique()"
   ]
  },
  {
   "cell_type": "markdown",
   "id": "fitted-nowhere",
   "metadata": {},
   "source": [
    "# Построение моделей"
   ]
  },
  {
   "cell_type": "code",
   "execution_count": 16,
   "id": "postal-champagne",
   "metadata": {},
   "outputs": [
    {
     "name": "stdout",
     "output_type": "stream",
     "text": [
      "Max of setosa: 1.9\n",
      "Min of others: 3.0\n"
     ]
    }
   ],
   "source": [
    "# Используем индексирование Numpy, чтобы получить массив строк\n",
    "labels = target_names[target]\n",
    "# Длина лепестка - прзнак в позиции 2\n",
    "plength = features[:,2]\n",
    "# Строим массив булевых значений\n",
    "is_setosa = (labels=='setosa')\n",
    "max_setosa = plength[is_setosa].max()\n",
    "min_non_setosa = plength[~is_setosa].min()\n",
    "\n",
    "print(f'Max of setosa: {round(max_setosa,2)}')\n",
    "print(f'Min of others: {round(min_non_setosa,2)}')"
   ]
  },
  {
   "cell_type": "markdown",
   "id": "reflected-james",
   "metadata": {},
   "source": [
    "Таким образом, мы посторили простую модель классификации,где если длина лепестка меньше 1.9, то это Iris Setosa, если больше, то это Iris Virginica, Iris Versicolor"
   ]
  },
  {
   "cell_type": "code",
   "execution_count": 17,
   "id": "hindu-square",
   "metadata": {},
   "outputs": [
    {
     "name": "stdout",
     "output_type": "stream",
     "text": [
      "0.94 3 1.6 False\n"
     ]
    }
   ],
   "source": [
    "features_  = features[~is_setosa]\n",
    "labels_ = labels[~is_setosa]\n",
    "# Создаём новую целевую переменную is_virginica\n",
    "is_virginica = (labels_ == \"virginica\")\n",
    "\n",
    "#Инициализируем best_acc значением, меньшим возможного\n",
    "best_acc = -1.0\n",
    "for fi in range(features.shape[1]):# проходимся по каждому столбцу\n",
    "    # Мы собираемся проверить все возможные пороги\n",
    "    thresh = features_[:,fi] # В переменную thresh кидаем копию столбца\n",
    "    for t in thresh:\n",
    "\n",
    "        # Get the vector for feature `fi`\n",
    "        feature_i = features_[:, fi]\n",
    "        # apply threshold `t`\n",
    "        pred = (feature_i > t)\n",
    "        acc = (pred == is_virginica).mean()#берём среднее значение от \n",
    "                                          #получившегося массива, в результате \n",
    "                                          #наложения маски\n",
    "                                          # получаем точность\n",
    "\n",
    "        rev_acc = (pred == ~is_virginica).mean()#тоже самое только \n",
    "                                                #от обратного\n",
    "        if rev_acc > acc:\n",
    "            reverse = True\n",
    "            acc = rev_acc\n",
    "        else:\n",
    "            reverse = False\n",
    "\n",
    "        if acc > best_acc:\n",
    "            best_acc = acc\n",
    "            best_fi = fi\n",
    "            best_t = t\n",
    "            best_reverse = reverse\n",
    "\n",
    "print(best_acc, best_fi, best_t, best_reverse)"
   ]
  },
  {
   "cell_type": "code",
   "execution_count": 18,
   "id": "diverse-evidence",
   "metadata": {},
   "outputs": [],
   "source": [
    "def is_virginica_test(fi,t,reverse,example):\n",
    "    \"Применяем пороговую модель к новому примеру\"\n",
    "    \n",
    "    test = example[fi]>t\n",
    "    if reverse:\n",
    "        test = not test\n",
    "    \n",
    "    return test"
   ]
  },
  {
   "cell_type": "code",
   "execution_count": 19,
   "id": "natural-handy",
   "metadata": {},
   "outputs": [
    {
     "name": "stdout",
     "output_type": "stream",
     "text": [
      "Training accuracy was 96.0%.\n",
      "Testing accuracy was 90.0% (N = 50).\n",
      "\n"
     ]
    }
   ],
   "source": [
    "features = data['data']\n",
    "labels = data['target_names'][data['target']]\n",
    "\n",
    "# Мы собираемся удалить примеры setosa, поскольку они слишком просты:\n",
    "is_setosa = (labels == 'setosa') #сортировка по классу setosa\n",
    "features_ = features[~is_setosa]\n",
    "labels_ = labels[~is_setosa] # признаки и подписи без класса setosa\n",
    "\n",
    "# Теперь мы классифицируем virginica и non-virginica\n",
    "is_virginica = (labels_ == 'virginica')\n",
    "\n",
    "# Разделите данные на две части: тестирование и обучение\n",
    "testing = np.tile([True, False], 50) # testing = [True,False,True,False,True,False...]\n",
    "\n",
    "# training - это отрицание testing: то есть точки данных, \n",
    "# не используемые для тестирования, будут использоваться для обучения.\n",
    "training = ~testing\n",
    "\n",
    "# Загружаем данные в функцию fit_model\n",
    "model = fit_model(features_[training], is_virginica[training])\n",
    "# Расчёт train_accuracy и test_accuracy\n",
    "train_accuracy = accuracy(features_[training], is_virginica[training], model)\n",
    "test_accuracy = accuracy(features_[testing], is_virginica[testing], model)\n",
    "\n",
    "print('''\\\n",
    "Training accuracy was {0:.1%}.\n",
    "Testing accuracy was {1:.1%} (N = {2}).\n",
    "'''.format(train_accuracy, test_accuracy, testing.sum()))"
   ]
  },
  {
   "cell_type": "code",
   "execution_count": 20,
   "id": "copyrighted-validity",
   "metadata": {},
   "outputs": [
    {
     "data": {
      "image/png": "[encoded data removed]",
      "text/plain": [
       "<Figure size 432x288 with 1 Axes>"
      ]
     },
     "metadata": {
      "needs_background": "light"
     },
     "output_type": "display_data"
    }
   ],
   "source": [
    "# Строим решающую границу\n",
    "\n",
    "COLOUR_FIGURE = False\n",
    "\n",
    "# We use NumPy fancy indexing to get an array of strings:\n",
    "labels_1 = target_names[target]\n",
    "\n",
    "is_setosa = (labels_1 == 'setosa')\n",
    "features_1 = features[~is_setosa]\n",
    "labels_1 = labels_1[~is_setosa]\n",
    "is_virginica = (labels_1 == 'virginica')\n",
    "\n",
    "# Настраиваем вручную пороги:\n",
    "t = 1.65\n",
    "t2 = 1.75\n",
    "\n",
    "# Features to use: 3 & 2\n",
    "f0, f1 = 3, 2\n",
    "\n",
    "if COLOUR_FIGURE:\n",
    "    area1c = (1., .8, .8)\n",
    "    area2c = (.8, .8, 1.)\n",
    "else:\n",
    "    area1c = (1., 1, 1)\n",
    "    area2c = (.7, .7, .7)\n",
    "\n",
    "# Plot from 90% of smallest value to 110% of largest value\n",
    "# (all feature values are positive, otherwise this would not work very well)\n",
    "\n",
    "x0 = features_1[:, f0].min() * .9\n",
    "x1 = features_1[:, f0].max() * 1.1\n",
    "\n",
    "y0 = features_1[:, f1].min() * .9\n",
    "y1 = features_1[:, f1].max() * 1.1\n",
    "\n",
    "fig,ax = plt.subplots()\n",
    "ax.fill_between([t, x1], [y0, y0], [y1, y1], color=area2c)\n",
    "ax.fill_between([x0, t], [y0, y0], [y1, y1], color=area1c)\n",
    "ax.plot([t, t], [y0, y1], 'k--', lw=2)\n",
    "ax.plot([t2, t2], [y0, y1], 'k:', lw=2)\n",
    "ax.scatter(features_1[is_virginica, f0],\n",
    "            features_1[is_virginica, f1], c='b', marker='o', s=40)\n",
    "ax.scatter(features_1[~is_virginica, f0],\n",
    "            features_1[~is_virginica, f1], c='r', marker='x', s=40)\n",
    "ax.set_ylim(y0, y1)\n",
    "ax.set_xlim(x0, x1)\n",
    "ax.set_xlabel(feature_names[f0])\n",
    "ax.set_ylabel(feature_names[f1])\n",
    "fig.tight_layout()"
   ]
  },
  {
   "cell_type": "code",
   "execution_count": 21,
   "id": "painted-nursing",
   "metadata": {},
   "outputs": [
    {
     "name": "stdout",
     "output_type": "stream",
     "text": [
      "Accuracy: 91.3%\n"
     ]
    }
   ],
   "source": [
    "labels = target_names[target]\n",
    "is_virginica = (labels == \"virginica\")# отсортировываем только \n",
    "                                      # класс virginica\n",
    "\n",
    "correct = 0.0\n",
    "\n",
    "for ei in range(len(features)): # Проходимся по 150 итерациям\n",
    "    # выбераются все позиции, кроме одного в позиции `ei`:\n",
    "    training = np.ones(len(features), bool) #Создаётся маска из булевых значений\n",
    "    training[ei] = False\n",
    "    testing = ~training # testing - обратный от training\n",
    "    # Загружаем данные в функцию fit_model\n",
    "    model = fit_model(features[training], is_virginica[training])\n",
    "    # строим предсказания\n",
    "    predictions = predict(model, features[testing])\n",
    "    # Высчитываем точность\n",
    "    correct += np.sum(predictions == is_virginica[testing])\n",
    "acc = correct/float(len(features))\n",
    "print('Accuracy: {0:.1%}'.format(acc))"
   ]
  }
 ],
 "metadata": {
  "kernelspec": {
   "display_name": "Python 3",
   "language": "python",
   "name": "python3"
  },
  "language_info": {
   "codemirror_mode": {
    "name": "ipython",
    "version": 3
   },
   "file_extension": ".py",
   "mimetype": "text/x-python",
   "name": "python",
   "nbconvert_exporter": "python",
   "pygments_lexer": "ipython3",
   "version": "3.7.10"
  }
 },
 "nbformat": 4,
 "nbformat_minor": 5
}
