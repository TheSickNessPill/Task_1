{
 "cells": [
  {
   "cell_type": "markdown",
   "id": "cultural-footwear",
   "metadata": {},
   "source": [
    "# Библиотеки"
   ]
  },
  {
   "cell_type": "code",
   "execution_count": 1,
   "id": "pediatric-transportation",
   "metadata": {},
   "outputs": [],
   "source": [
    "import numpy as np # Работа с массивами чисел\n",
    "import pandas as pd # Работа с раблицами\n",
    "from sklearn.neighbors import KNeighborsClassifier # Классификатор методом ближайших соседей\n",
    "from sklearn.model_selection import KFold #Разбиение датасета на K частей\n",
    "from matplotlib import pyplot as plt # Построение графиков\n",
    "from matplotlib.colors import ListedColormap\n",
    "\n",
    "RANDOM_STATE = 42 #для воспроизводимости"
   ]
  },
  {
   "cell_type": "markdown",
   "id": "adapted-beaver",
   "metadata": {},
   "source": [
    "# Загрузка данных"
   ]
  },
  {
   "cell_type": "code",
   "execution_count": 2,
   "id": "dutch-singapore",
   "metadata": {},
   "outputs": [],
   "source": [
    "df = pd.read_csv('B:/SKILL_FACTORY/seeds_dataset.txt',sep=\"\\t\", header = None) # Загрузка данных из файла\n",
    "df.columns = [\"area_A\",                                                        # также насройка таблицы\n",
    "              \"perimeter_P\",\n",
    "              \"compactness_C\",\n",
    "              \"length_of_kernel\",\n",
    "              \"width_of_kernel\",\n",
    "              \"asymmetry_coefficient\",\n",
    "              \"length_of_kernel_groove\",\n",
    "             \"y\"]"
   ]
  },
  {
   "cell_type": "markdown",
   "id": "photographic-center",
   "metadata": {},
   "source": [
    "# EDA"
   ]
  },
  {
   "cell_type": "code",
   "execution_count": 3,
   "id": "necessary-transaction",
   "metadata": {},
   "outputs": [
    {
     "data": {
      "text/html": [
       "<div>\n",
       "<style scoped>\n",
       "    .dataframe tbody tr th:only-of-type {\n",
       "        vertical-align: middle;\n",
       "    }\n",
       "\n",
       "    .dataframe tbody tr th {\n",
       "        vertical-align: top;\n",
       "    }\n",
       "\n",
       "    .dataframe thead th {\n",
       "        text-align: right;\n",
       "    }\n",
       "</style>\n",
       "<table border=\"1\" class=\"dataframe\">\n",
       "  <thead>\n",
       "    <tr style=\"text-align: right;\">\n",
       "      <th></th>\n",
       "      <th>area_A</th>\n",
       "      <th>perimeter_P</th>\n",
       "      <th>compactness_C</th>\n",
       "      <th>length_of_kernel</th>\n",
       "      <th>width_of_kernel</th>\n",
       "      <th>asymmetry_coefficient</th>\n",
       "      <th>length_of_kernel_groove</th>\n",
       "      <th>y</th>\n",
       "    </tr>\n",
       "  </thead>\n",
       "  <tbody>\n",
       "    <tr>\n",
       "      <th>0</th>\n",
       "      <td>15.26</td>\n",
       "      <td>14.84</td>\n",
       "      <td>0.8710</td>\n",
       "      <td>5.763</td>\n",
       "      <td>3.312</td>\n",
       "      <td>2.221</td>\n",
       "      <td>5.220</td>\n",
       "      <td>1</td>\n",
       "    </tr>\n",
       "    <tr>\n",
       "      <th>1</th>\n",
       "      <td>14.88</td>\n",
       "      <td>14.57</td>\n",
       "      <td>0.8811</td>\n",
       "      <td>5.554</td>\n",
       "      <td>3.333</td>\n",
       "      <td>1.018</td>\n",
       "      <td>4.956</td>\n",
       "      <td>1</td>\n",
       "    </tr>\n",
       "    <tr>\n",
       "      <th>2</th>\n",
       "      <td>14.29</td>\n",
       "      <td>14.09</td>\n",
       "      <td>0.9050</td>\n",
       "      <td>5.291</td>\n",
       "      <td>3.337</td>\n",
       "      <td>2.699</td>\n",
       "      <td>4.825</td>\n",
       "      <td>1</td>\n",
       "    </tr>\n",
       "    <tr>\n",
       "      <th>3</th>\n",
       "      <td>13.84</td>\n",
       "      <td>13.94</td>\n",
       "      <td>0.8955</td>\n",
       "      <td>5.324</td>\n",
       "      <td>3.379</td>\n",
       "      <td>2.259</td>\n",
       "      <td>4.805</td>\n",
       "      <td>1</td>\n",
       "    </tr>\n",
       "    <tr>\n",
       "      <th>4</th>\n",
       "      <td>16.14</td>\n",
       "      <td>14.99</td>\n",
       "      <td>0.9034</td>\n",
       "      <td>5.658</td>\n",
       "      <td>3.562</td>\n",
       "      <td>1.355</td>\n",
       "      <td>5.175</td>\n",
       "      <td>1</td>\n",
       "    </tr>\n",
       "  </tbody>\n",
       "</table>\n",
       "</div>"
      ],
      "text/plain": [
       "   area_A  perimeter_P  compactness_C  length_of_kernel  width_of_kernel  \\\n",
       "0   15.26        14.84         0.8710             5.763            3.312   \n",
       "1   14.88        14.57         0.8811             5.554            3.333   \n",
       "2   14.29        14.09         0.9050             5.291            3.337   \n",
       "3   13.84        13.94         0.8955             5.324            3.379   \n",
       "4   16.14        14.99         0.9034             5.658            3.562   \n",
       "\n",
       "   asymmetry_coefficient  length_of_kernel_groove  y  \n",
       "0                  2.221                    5.220  1  \n",
       "1                  1.018                    4.956  1  \n",
       "2                  2.699                    4.825  1  \n",
       "3                  2.259                    4.805  1  \n",
       "4                  1.355                    5.175  1  "
      ]
     },
     "execution_count": 3,
     "metadata": {},
     "output_type": "execute_result"
    }
   ],
   "source": [
    "df.head() # Canadian, Koma, Rosa"
   ]
  },
  {
   "cell_type": "code",
   "execution_count": 4,
   "id": "musical-ambassador",
   "metadata": {},
   "outputs": [
    {
     "name": "stdout",
     "output_type": "stream",
     "text": [
      "<class 'pandas.core.frame.DataFrame'>\n",
      "RangeIndex: 210 entries, 0 to 209\n",
      "Data columns (total 8 columns):\n",
      " #   Column                   Non-Null Count  Dtype  \n",
      "---  ------                   --------------  -----  \n",
      " 0   area_A                   210 non-null    float64\n",
      " 1   perimeter_P              210 non-null    float64\n",
      " 2   compactness_C            210 non-null    float64\n",
      " 3   length_of_kernel         210 non-null    float64\n",
      " 4   width_of_kernel          210 non-null    float64\n",
      " 5   asymmetry_coefficient    210 non-null    float64\n",
      " 6   length_of_kernel_groove  210 non-null    float64\n",
      " 7   y                        210 non-null    int64  \n",
      "dtypes: float64(7), int64(1)\n",
      "memory usage: 13.2 KB\n"
     ]
    }
   ],
   "source": [
    "df.info()"
   ]
  },
  {
   "cell_type": "markdown",
   "id": "constant-split",
   "metadata": {},
   "source": [
    "## area_A (предварительный анализ данных)"
   ]
  },
  {
   "cell_type": "code",
   "execution_count": 5,
   "id": "arranged-thunder",
   "metadata": {},
   "outputs": [
    {
     "data": {
      "text/plain": [
       "<AxesSubplot:>"
      ]
     },
     "execution_count": 5,
     "metadata": {},
     "output_type": "execute_result"
    },
    {
     "data": {
      "image/png": "[encoded data removed]",
      "text/plain": [
       "<Figure size 432x288 with 1 Axes>"
      ]
     },
     "metadata": {
      "needs_background": "light"
     },
     "output_type": "display_data"
    }
   ],
   "source": [
    "df['area_A'].hist()"
   ]
  },
  {
   "cell_type": "code",
   "execution_count": 6,
   "id": "planned-comfort",
   "metadata": {},
   "outputs": [
    {
     "data": {
      "text/plain": [
       "count    210.000000\n",
       "mean      14.847524\n",
       "std        2.909699\n",
       "min       10.590000\n",
       "25%       12.270000\n",
       "50%       14.355000\n",
       "75%       17.305000\n",
       "max       21.180000\n",
       "Name: area_A, dtype: float64"
      ]
     },
     "execution_count": 6,
     "metadata": {},
     "output_type": "execute_result"
    }
   ],
   "source": [
    "df['area_A'].describe()"
   ]
  },
  {
   "cell_type": "markdown",
   "id": "lesbian-subject",
   "metadata": {},
   "source": [
    "## perimeter_P"
   ]
  },
  {
   "cell_type": "code",
   "execution_count": 7,
   "id": "specific-ecology",
   "metadata": {},
   "outputs": [
    {
     "data": {
      "text/plain": [
       "<AxesSubplot:>"
      ]
     },
     "execution_count": 7,
     "metadata": {},
     "output_type": "execute_result"
    },
    {
     "data": {
      "image/png": "[encoded data removed]",
      "text/plain": [
       "<Figure size 432x288 with 1 Axes>"
      ]
     },
     "metadata": {
      "needs_background": "light"
     },
     "output_type": "display_data"
    }
   ],
   "source": [
    "df['perimeter_P'].hist()"
   ]
  },
  {
   "cell_type": "code",
   "execution_count": 8,
   "id": "joint-belle",
   "metadata": {},
   "outputs": [
    {
     "data": {
      "text/plain": [
       "count    210.000000\n",
       "mean      14.559286\n",
       "std        1.305959\n",
       "min       12.410000\n",
       "25%       13.450000\n",
       "50%       14.320000\n",
       "75%       15.715000\n",
       "max       17.250000\n",
       "Name: perimeter_P, dtype: float64"
      ]
     },
     "execution_count": 8,
     "metadata": {},
     "output_type": "execute_result"
    }
   ],
   "source": [
    "df['perimeter_P'].describe()"
   ]
  },
  {
   "cell_type": "markdown",
   "id": "dirty-heading",
   "metadata": {},
   "source": [
    "## compactness_C"
   ]
  },
  {
   "cell_type": "code",
   "execution_count": 9,
   "id": "statutory-tamil",
   "metadata": {},
   "outputs": [
    {
     "data": {
      "text/plain": [
       "<AxesSubplot:>"
      ]
     },
     "execution_count": 9,
     "metadata": {},
     "output_type": "execute_result"
    },
    {
     "data": {
      "image/png": "[encoded data removed]",
      "text/plain": [
       "<Figure size 432x288 with 1 Axes>"
      ]
     },
     "metadata": {
      "needs_background": "light"
     },
     "output_type": "display_data"
    }
   ],
   "source": [
    "df['compactness_C'].hist()"
   ]
  },
  {
   "cell_type": "code",
   "execution_count": 10,
   "id": "comparable-sodium",
   "metadata": {},
   "outputs": [
    {
     "data": {
      "text/plain": [
       "count    210.000000\n",
       "mean       0.870999\n",
       "std        0.023629\n",
       "min        0.808100\n",
       "25%        0.856900\n",
       "50%        0.873450\n",
       "75%        0.887775\n",
       "max        0.918300\n",
       "Name: compactness_C, dtype: float64"
      ]
     },
     "execution_count": 10,
     "metadata": {},
     "output_type": "execute_result"
    }
   ],
   "source": [
    "df['compactness_C'].describe()"
   ]
  },
  {
   "cell_type": "markdown",
   "id": "discrete-bradley",
   "metadata": {},
   "source": [
    "## length_of_kernel"
   ]
  },
  {
   "cell_type": "code",
   "execution_count": 11,
   "id": "cubic-border",
   "metadata": {},
   "outputs": [
    {
     "data": {
      "text/plain": [
       "<AxesSubplot:>"
      ]
     },
     "execution_count": 11,
     "metadata": {},
     "output_type": "execute_result"
    },
    {
     "data": {
      "image/png": "[encoded data removed]",
      "text/plain": [
       "<Figure size 432x288 with 1 Axes>"
      ]
     },
     "metadata": {
      "needs_background": "light"
     },
     "output_type": "display_data"
    }
   ],
   "source": [
    "df['length_of_kernel'].hist()"
   ]
  },
  {
   "cell_type": "code",
   "execution_count": 12,
   "id": "known-tamil",
   "metadata": {},
   "outputs": [
    {
     "data": {
      "text/plain": [
       "count    210.000000\n",
       "mean       5.628533\n",
       "std        0.443063\n",
       "min        4.899000\n",
       "25%        5.262250\n",
       "50%        5.523500\n",
       "75%        5.979750\n",
       "max        6.675000\n",
       "Name: length_of_kernel, dtype: float64"
      ]
     },
     "execution_count": 12,
     "metadata": {},
     "output_type": "execute_result"
    }
   ],
   "source": [
    "df['length_of_kernel'].describe()"
   ]
  },
  {
   "cell_type": "markdown",
   "id": "raised-slide",
   "metadata": {},
   "source": [
    "## width_of_kernel"
   ]
  },
  {
   "cell_type": "code",
   "execution_count": 13,
   "id": "endangered-motel",
   "metadata": {},
   "outputs": [
    {
     "data": {
      "text/plain": [
       "<AxesSubplot:>"
      ]
     },
     "execution_count": 13,
     "metadata": {},
     "output_type": "execute_result"
    },
    {
     "data": {
      "image/png": "[encoded data removed]",
      "text/plain": [
       "<Figure size 432x288 with 1 Axes>"
      ]
     },
     "metadata": {
      "needs_background": "light"
     },
     "output_type": "display_data"
    }
   ],
   "source": [
    "df['width_of_kernel'].hist()"
   ]
  },
  {
   "cell_type": "code",
   "execution_count": 14,
   "id": "yellow-seeker",
   "metadata": {},
   "outputs": [
    {
     "data": {
      "text/plain": [
       "count    210.000000\n",
       "mean       3.258605\n",
       "std        0.377714\n",
       "min        2.630000\n",
       "25%        2.944000\n",
       "50%        3.237000\n",
       "75%        3.561750\n",
       "max        4.033000\n",
       "Name: width_of_kernel, dtype: float64"
      ]
     },
     "execution_count": 14,
     "metadata": {},
     "output_type": "execute_result"
    }
   ],
   "source": [
    "df['width_of_kernel'].describe()"
   ]
  },
  {
   "cell_type": "markdown",
   "id": "joint-circle",
   "metadata": {},
   "source": [
    "## asymmetry_coefficient"
   ]
  },
  {
   "cell_type": "code",
   "execution_count": 15,
   "id": "advisory-victor",
   "metadata": {},
   "outputs": [
    {
     "data": {
      "text/plain": [
       "<AxesSubplot:>"
      ]
     },
     "execution_count": 15,
     "metadata": {},
     "output_type": "execute_result"
    },
    {
     "data": {
      "image/png": "[encoded data removed]",
      "text/plain": [
       "<Figure size 432x288 with 1 Axes>"
      ]
     },
     "metadata": {
      "needs_background": "light"
     },
     "output_type": "display_data"
    }
   ],
   "source": [
    "df['asymmetry_coefficient'].hist()"
   ]
  },
  {
   "cell_type": "code",
   "execution_count": 16,
   "id": "prospective-credit",
   "metadata": {},
   "outputs": [
    {
     "data": {
      "text/plain": [
       "count    210.000000\n",
       "mean       3.700201\n",
       "std        1.503557\n",
       "min        0.765100\n",
       "25%        2.561500\n",
       "50%        3.599000\n",
       "75%        4.768750\n",
       "max        8.456000\n",
       "Name: asymmetry_coefficient, dtype: float64"
      ]
     },
     "execution_count": 16,
     "metadata": {},
     "output_type": "execute_result"
    }
   ],
   "source": [
    "df['asymmetry_coefficient'].describe()"
   ]
  },
  {
   "cell_type": "markdown",
   "id": "positive-mount",
   "metadata": {},
   "source": [
    "## length_of_kernel_groove"
   ]
  },
  {
   "cell_type": "code",
   "execution_count": 17,
   "id": "funded-luxembourg",
   "metadata": {},
   "outputs": [
    {
     "data": {
      "text/plain": [
       "<AxesSubplot:>"
      ]
     },
     "execution_count": 17,
     "metadata": {},
     "output_type": "execute_result"
    },
    {
     "data": {
      "image/png": "[encoded data removed]",
      "text/plain": [
       "<Figure size 432x288 with 1 Axes>"
      ]
     },
     "metadata": {
      "needs_background": "light"
     },
     "output_type": "display_data"
    }
   ],
   "source": [
    "df['length_of_kernel_groove'].hist()"
   ]
  },
  {
   "cell_type": "code",
   "execution_count": 18,
   "id": "hybrid-representative",
   "metadata": {},
   "outputs": [
    {
     "data": {
      "text/plain": [
       "count    210.000000\n",
       "mean       5.408071\n",
       "std        0.491480\n",
       "min        4.519000\n",
       "25%        5.045000\n",
       "50%        5.223000\n",
       "75%        5.877000\n",
       "max        6.550000\n",
       "Name: length_of_kernel_groove, dtype: float64"
      ]
     },
     "execution_count": 18,
     "metadata": {},
     "output_type": "execute_result"
    }
   ],
   "source": [
    "df['length_of_kernel_groove'].describe()"
   ]
  },
  {
   "cell_type": "markdown",
   "id": "systematic-edinburgh",
   "metadata": {},
   "source": [
    "# Построение моделей"
   ]
  },
  {
   "cell_type": "code",
   "execution_count": 19,
   "id": "crucial-mason",
   "metadata": {},
   "outputs": [],
   "source": [
    "features = df.iloc[:,:-1].values # в features приравниваются только признаки (Х)\n",
    "labels = df.iloc[:,-1].values # в labels приравниваются только целевая переменная (Y)"
   ]
  },
  {
   "cell_type": "code",
   "execution_count": 20,
   "id": "oriental-buying",
   "metadata": {},
   "outputs": [],
   "source": [
    "classifier = KNeighborsClassifier(n_neighbors=1) # подготавливаем модель с 1 соседом\n",
    "kf = KFold(n_splits=5, shuffle=True, random_state = RANDOM_STATE) # Подготавливаем Kfold разбиение"
   ]
  },
  {
   "cell_type": "code",
   "execution_count": 21,
   "id": "emerging-sender",
   "metadata": {},
   "outputs": [
    {
     "data": {
      "text/plain": [
       "5"
      ]
     },
     "execution_count": 21,
     "metadata": {},
     "output_type": "execute_result"
    }
   ],
   "source": [
    "kf.get_n_splits(features) # выводим кол-во разбиений"
   ]
  },
  {
   "cell_type": "code",
   "execution_count": 22,
   "id": "compliant-shaft",
   "metadata": {},
   "outputs": [
    {
     "name": "stdout",
     "output_type": "stream",
     "text": [
      "Результат перекрестной проверки с использованием KFold: 90.0%\n"
     ]
    }
   ],
   "source": [
    "means = []\n",
    "\n",
    "\n",
    "#\n",
    "# Начинаем обучение c 1 соседом\n",
    "#\n",
    "for training,testing in kf.split(features):\n",
    "    # Мы обучаем модель на этом разбиении с помощью «fit», а затем применяем ее к\n",
    "    # данным тестирования с помощью \"prediction\":\n",
    "    classifier.fit(features[training], labels[training])\n",
    "    prediction = classifier.predict(features[testing])\n",
    "\n",
    "    # np.mean в массиве логических значений возвращает долю правильных решений\n",
    "    # для конкретной итерации\n",
    "    curmean = np.mean(prediction == labels[testing])\n",
    "    means.append(curmean)\n",
    "print('Результат перекрестной проверки с использованием KFold: {:.1%}'.format(np.mean(means)))"
   ]
  },
  {
   "cell_type": "code",
   "execution_count": 23,
   "id": "exclusive-parameter",
   "metadata": {},
   "outputs": [],
   "source": [
    "def fit_model(k, features, labels):\n",
    "    '''Обучаем модель k-nn'''\n",
    "    # There is no model in k-nn, just a copy of the inputs\n",
    "    return k, features.copy(), labels.copy()\n",
    "\n",
    "\n",
    "def plurality(xs):\n",
    "    '''Нахождение самого распространенного элемента в коллекции'''\n",
    "    from collections import defaultdict\n",
    "    counts = defaultdict(int)\n",
    "    for x in xs:\n",
    "        counts[x] += 1\n",
    "    maxv = max(counts.values())\n",
    "    for k, v in counts.items():\n",
    "        if v == maxv:\n",
    "            return k\n",
    "\n",
    "def predict(model, features):\n",
    "    '''Применяем k-nn можель'''\n",
    "    k, train_feats, labels = model\n",
    "    results = []\n",
    "    for f in features:\n",
    "        label_dist = []\n",
    "        # Вычисляем все расстояния:\n",
    "        for t, ell in zip(train_feats, labels):\n",
    "            label_dist.append((np.linalg.norm(f - t), ell))\n",
    "        label_dist.sort(key=lambda d_ell: d_ell[0])\n",
    "        label_dist = label_dist[:k]\n",
    "        results.append(plurality([ell for _, ell in label_dist]))\n",
    "    return np.array(results)"
   ]
  },
  {
   "cell_type": "code",
   "execution_count": 24,
   "id": "binding-bones",
   "metadata": {},
   "outputs": [
    {
     "name": "stderr",
     "output_type": "stream",
     "text": [
      "B:\\Anaconda\\lib\\site-packages\\ipykernel_launcher.py:49: MatplotlibDeprecationWarning: shading='flat' when X and Y have the same dimensions as C is deprecated since 3.3.  Either specify the corners of the quadrilaterals with X and Y, or pass shading='auto', 'nearest' or 'gouraud', or set rcParams['pcolor.shading'].  This will become an error two minor releases later.\n",
      "B:\\Anaconda\\lib\\site-packages\\ipykernel_launcher.py:49: MatplotlibDeprecationWarning: shading='flat' when X and Y have the same dimensions as C is deprecated since 3.3.  Either specify the corners of the quadrilaterals with X and Y, or pass shading='auto', 'nearest' or 'gouraud', or set rcParams['pcolor.shading'].  This will become an error two minor releases later.\n"
     ]
    },
    {
     "data": {
      "image/png": "[encoded data removed]",
      "text/plain": [
       "<Figure size 1152x648 with 1 Axes>"
      ]
     },
     "metadata": {
      "needs_background": "light"
     },
     "output_type": "display_data"
    },
    {
     "data": {
      "image/png": "[encoded data removed]",
      "text/plain": [
       "<Figure size 1152x648 with 1 Axes>"
      ]
     },
     "metadata": {
      "needs_background": "light"
     },
     "output_type": "display_data"
    }
   ],
   "source": [
    "COLOUR_FIGURE = False\n",
    "\n",
    "feature_names = [\n",
    "    'area',\n",
    "    'perimeter',\n",
    "    'compactness',\n",
    "    'length of kernel',\n",
    "    'width of kernel',\n",
    "    'asymmetry coefficien',\n",
    "    'length of kernel groove',\n",
    "]\n",
    "\n",
    "\n",
    "def plot_decision(features, labels):\n",
    "    \"\"\"\n",
    "    Построение границы решения для KNN\n",
    "     Параметры\n",
    "     ----------\n",
    "     особенности: ndarray\n",
    "     метки: последовательность\n",
    "     Возврат\n",
    "     -------\n",
    "     fig: Рисунок Matplotlib\n",
    "     ax: Топоры Matplotlib\n",
    "     \"\"\"\n",
    "    \n",
    "    # Canadian - ромбы, Koma - точки, Rosa - реугольники\n",
    "    y0, y1 = features[:, 2].min() * .9, features[:, 2].max() * 1.1\n",
    "    x0, x1 = features[:, 0].min() * .9, features[:, 0].max() * 1.1\n",
    "    X = np.linspace(x0, x1, 100)\n",
    "    Y = np.linspace(y0, y1, 100)\n",
    "    X, Y = np.meshgrid(X, Y)\n",
    "\n",
    "    model = fit_model(1, features[:, (0, 2)], np.array(labels))\n",
    "    C = predict(\n",
    "        model, np.vstack([X.ravel(), Y.ravel()]).T).reshape(X.shape)\n",
    "    if COLOUR_FIGURE:\n",
    "        cmap = ListedColormap([(1., .6, .6), (.6, 1., .6), (.6, .6, 1.)])\n",
    "    else:\n",
    "        cmap = ListedColormap([(1., 1., 1.), (.2, .2, .2), (.6, .6, .6)])\n",
    "    fig,ax = plt.subplots()\n",
    "    fig.set_figwidth(16)\n",
    "    fig.set_figheight(9)\n",
    "    ax.set_xlim(x0, x1)\n",
    "    ax.set_ylim(y0, y1)\n",
    "    ax.set_xlabel(feature_names[0])\n",
    "    ax.set_ylabel(feature_names[2])\n",
    "    \n",
    "    ax.pcolormesh(X, Y, C, cmap=cmap)\n",
    "    if COLOUR_FIGURE:\n",
    "        cmap = ListedColormap([(1., .0, .0), (.0, 1., .0), (.0, .0, 1.)])\n",
    "        ax.scatter(features[:, 0], features[:, 2], c=labels, cmap=cmap)\n",
    "    else:\n",
    "        for lab, ma in zip(range(3), \"Do^\"):\n",
    "            ax.plot(features[labels == lab, 0], features[\n",
    "                     labels == lab, 2], ma, color='red')\n",
    "    return fig,ax\n",
    "\n",
    "names = sorted(set(labels))\n",
    "labels = np.array([names.index(ell) for ell in labels])\n",
    "\n",
    "fig,ax = plot_decision(features, labels) # выводим риссунок без нормализации и стандартизации\n",
    "\n",
    "\n",
    "features -= features.mean(0)\n",
    "features /= features.std(0)\n",
    "fig,ax = plot_decision(features, labels) # выводим риссунок c нормализацией и стандартизацией"
   ]
  },
  {
   "cell_type": "code",
   "execution_count": 25,
   "id": "standard-bosnia",
   "metadata": {},
   "outputs": [
    {
     "name": "stdout",
     "output_type": "stream",
     "text": [
      "Результат перекрестной проверки с использованием KFold: 88.1%\n"
     ]
    }
   ],
   "source": [
    "\n",
    "#\n",
    "# Начинаем обучение c 1 соседом\n",
    "#\n",
    "\n",
    "features = df.iloc[:,:-1].values # в features приравниваются только признаки (Х)\n",
    "labels = df.iloc[:,-1].values # в labels приравниваются только целевая переменная (Y)\n",
    "\n",
    "classifier = KNeighborsClassifier(n_neighbors=5) # подготавливаем модель с 1 соседом\n",
    "kf = KFold(n_splits=5, shuffle=True, random_state = RANDOM_STATE) # Подготавливаем Kfold разбиение\n",
    "\n",
    "kf.get_n_splits(features)  # выводим кол-во разбиений\n",
    "\n",
    "means = []\n",
    "\n",
    "for training,testing in kf.split(features):\n",
    "    # Мы обучаем модель на этом разбиении с помощью «fit», а затем применяем ее к\n",
    "    # данным тестирования с помощью \"prediction\":\n",
    "    classifier.fit(features[training], labels[training])\n",
    "    prediction = classifier.predict(features[testing])\n",
    "\n",
    "    # np.mean в массиве логических значений возвращает долю правильных решений\n",
    "    # для конкретной итерации\n",
    "    curmean = np.mean(prediction == labels[testing])\n",
    "    means.append(curmean)\n",
    "print('Результат перекрестной проверки с использованием KFold: {:.1%}'.format(np.mean(means)))"
   ]
  },
  {
   "cell_type": "code",
   "execution_count": null,
   "id": "secondary-hampton",
   "metadata": {},
   "outputs": [],
   "source": []
  }
 ],
 "metadata": {
  "kernelspec": {
   "display_name": "Python 3",
   "language": "python",
   "name": "python3"
  },
  "language_info": {
   "codemirror_mode": {
    "name": "ipython",
    "version": 3
   },
   "file_extension": ".py",
   "mimetype": "text/x-python",
   "name": "python",
   "nbconvert_exporter": "python",
   "pygments_lexer": "ipython3",
   "version": "3.7.10"
  }
 },
 "nbformat": 4,
 "nbformat_minor": 5
}
